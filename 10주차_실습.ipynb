{
  "cells": [
    {
      "cell_type": "markdown",
      "metadata": {
        "id": "view-in-github",
        "colab_type": "text"
      },
      "source": [
        "<a href=\"https://colab.research.google.com/github/jjinseul/python_hanyang-mot/blob/main/10%EC%A3%BC%EC%B0%A8_%EC%8B%A4%EC%8A%B5.ipynb\" target=\"_parent\"><img src=\"https://colab.research.google.com/assets/colab-badge.svg\" alt=\"Open In Colab\"/></a>"
      ]
    },
    {
      "cell_type": "code",
      "execution_count": null,
      "id": "b14911f9-7322-43ff-9f1c-7e65c1a8b615",
      "metadata": {
        "id": "b14911f9-7322-43ff-9f1c-7e65c1a8b615"
      },
      "outputs": [],
      "source": [
        "result=0"
      ]
    },
    {
      "cell_type": "code",
      "execution_count": null,
      "id": "eedadff8-35f0-48fd-8a93-22ebf1fffe4f",
      "metadata": {
        "id": "eedadff8-35f0-48fd-8a93-22ebf1fffe4f"
      },
      "outputs": [],
      "source": [
        "def adder(num):\n",
        "    global result\n",
        "    result += num\n",
        "    return result"
      ]
    },
    {
      "cell_type": "code",
      "execution_count": null,
      "id": "30aeeec4-0442-49d8-b6a0-174fbf4cf75a",
      "metadata": {
        "id": "30aeeec4-0442-49d8-b6a0-174fbf4cf75a",
        "outputId": "7e1343db-ad32-4d20-a63d-b2af29e7a6d7"
      },
      "outputs": [
        {
          "name": "stdout",
          "output_type": "stream",
          "text": [
            "3\n"
          ]
        }
      ],
      "source": [
        "print(adder(3))"
      ]
    },
    {
      "cell_type": "code",
      "execution_count": null,
      "id": "5ed52aab-9f8c-412e-b3a8-cfbd05dcf5c6",
      "metadata": {
        "id": "5ed52aab-9f8c-412e-b3a8-cfbd05dcf5c6",
        "outputId": "d281c126-00de-4741-dfc9-27ee98280425"
      },
      "outputs": [
        {
          "data": {
            "text/plain": [
              "7"
            ]
          },
          "execution_count": 8,
          "metadata": {},
          "output_type": "execute_result"
        }
      ],
      "source": [
        "adder(4)"
      ]
    },
    {
      "cell_type": "code",
      "execution_count": null,
      "id": "a6bb2ea0-e3b8-4398-8320-eadac91d0e19",
      "metadata": {
        "id": "a6bb2ea0-e3b8-4398-8320-eadac91d0e19",
        "outputId": "49dce0e9-37cf-41eb-9004-df474720fea8"
      },
      "outputs": [
        {
          "data": {
            "text/plain": [
              "12"
            ]
          },
          "execution_count": 9,
          "metadata": {},
          "output_type": "execute_result"
        }
      ],
      "source": [
        "adder(5)"
      ]
    },
    {
      "cell_type": "code",
      "execution_count": null,
      "id": "c9001e07-81dd-453c-8291-81840e817f05",
      "metadata": {
        "id": "c9001e07-81dd-453c-8291-81840e817f05"
      },
      "outputs": [],
      "source": [
        "result1=0\n",
        "result2=0"
      ]
    },
    {
      "cell_type": "code",
      "execution_count": null,
      "id": "8125399b-3a55-4c08-87ac-b66b30223649",
      "metadata": {
        "id": "8125399b-3a55-4c08-87ac-b66b30223649"
      },
      "outputs": [],
      "source": [
        "def adder1(num):\n",
        "    global result1\n",
        "    result1 += num\n",
        "    return result1"
      ]
    },
    {
      "cell_type": "code",
      "execution_count": null,
      "id": "a9ad258f-7703-4dfd-9829-ea5811035d27",
      "metadata": {
        "id": "a9ad258f-7703-4dfd-9829-ea5811035d27"
      },
      "outputs": [],
      "source": [
        "def adder2(num):\n",
        "    global result2\n",
        "    result2 += num\n",
        "    return result2"
      ]
    },
    {
      "cell_type": "code",
      "execution_count": null,
      "id": "498868ac-5235-45f2-86dc-307cd145a2dd",
      "metadata": {
        "id": "498868ac-5235-45f2-86dc-307cd145a2dd",
        "outputId": "43ff7f1b-d088-4d59-81de-3775c1b70ebf"
      },
      "outputs": [
        {
          "data": {
            "text/plain": [
              "3"
            ]
          },
          "execution_count": 38,
          "metadata": {},
          "output_type": "execute_result"
        }
      ],
      "source": [
        "adder1(3)"
      ]
    },
    {
      "cell_type": "code",
      "execution_count": null,
      "id": "19814189-f8f3-405a-998f-d56df9ba355b",
      "metadata": {
        "id": "19814189-f8f3-405a-998f-d56df9ba355b",
        "outputId": "c5627a33-6dc5-41d8-b456-189215db6880"
      },
      "outputs": [
        {
          "data": {
            "text/plain": [
              "7"
            ]
          },
          "execution_count": 39,
          "metadata": {},
          "output_type": "execute_result"
        }
      ],
      "source": [
        "adder1(4)"
      ]
    },
    {
      "cell_type": "code",
      "execution_count": null,
      "id": "764b0bd8-7d65-4f8e-98ab-e11585d6672c",
      "metadata": {
        "id": "764b0bd8-7d65-4f8e-98ab-e11585d6672c",
        "outputId": "2ae060c5-624c-491d-a4bf-e52614df777c"
      },
      "outputs": [
        {
          "data": {
            "text/plain": [
              "3"
            ]
          },
          "execution_count": 40,
          "metadata": {},
          "output_type": "execute_result"
        }
      ],
      "source": [
        "adder2(3)"
      ]
    },
    {
      "cell_type": "code",
      "execution_count": null,
      "id": "51e1b76f-0590-4e00-8ae5-1dd2c055d83b",
      "metadata": {
        "id": "51e1b76f-0590-4e00-8ae5-1dd2c055d83b",
        "outputId": "3259e72f-d4bd-4673-d383-52fc3049e165"
      },
      "outputs": [
        {
          "data": {
            "text/plain": [
              "10"
            ]
          },
          "execution_count": 41,
          "metadata": {},
          "output_type": "execute_result"
        }
      ],
      "source": [
        "adder2(7)"
      ]
    },
    {
      "cell_type": "code",
      "execution_count": null,
      "id": "5cc5573d-94b2-489f-a1c4-5faa0b18bd07",
      "metadata": {
        "id": "5cc5573d-94b2-489f-a1c4-5faa0b18bd07"
      },
      "outputs": [],
      "source": [
        "class Calculator:\n",
        "    def __init__(self) :\n",
        "        self.result = 0\n",
        "\n",
        "    def adder(self, num) :\n",
        "        self.result += num\n",
        "        return self.result"
      ]
    },
    {
      "cell_type": "code",
      "execution_count": null,
      "id": "514457bf-2f49-4ff0-a5c7-b26451fe3203",
      "metadata": {
        "id": "514457bf-2f49-4ff0-a5c7-b26451fe3203"
      },
      "outputs": [],
      "source": [
        "cal1 = Calculator()"
      ]
    },
    {
      "cell_type": "code",
      "execution_count": null,
      "id": "36906519-299d-4fb6-a2ed-d6a0e22f5a82",
      "metadata": {
        "id": "36906519-299d-4fb6-a2ed-d6a0e22f5a82",
        "outputId": "8b2871ef-00c8-4b7b-8cec-2847b93bc4db"
      },
      "outputs": [
        {
          "name": "stdout",
          "output_type": "stream",
          "text": [
            "3\n"
          ]
        }
      ],
      "source": [
        "print(cal1.adder(3))"
      ]
    },
    {
      "cell_type": "code",
      "execution_count": null,
      "id": "83d5d7c4-fd31-40df-925d-ca1143c3b4f9",
      "metadata": {
        "id": "83d5d7c4-fd31-40df-925d-ca1143c3b4f9",
        "outputId": "d5c9c6a3-6a4e-4084-b263-90ebeed7af4d"
      },
      "outputs": [
        {
          "name": "stdout",
          "output_type": "stream",
          "text": [
            "7\n"
          ]
        }
      ],
      "source": [
        "print(cal1.adder(4))"
      ]
    },
    {
      "cell_type": "code",
      "execution_count": null,
      "id": "7aef9ec6-6eef-4e52-a465-dfeaffbcd73a",
      "metadata": {
        "id": "7aef9ec6-6eef-4e52-a465-dfeaffbcd73a"
      },
      "outputs": [],
      "source": [
        "cal2 = Calculator()"
      ]
    },
    {
      "cell_type": "code",
      "execution_count": null,
      "id": "ababb65a-61d0-46f8-96a0-fd32810f6ba5",
      "metadata": {
        "id": "ababb65a-61d0-46f8-96a0-fd32810f6ba5",
        "outputId": "895b672f-10d1-4e6f-c435-9de4ce2cc25a"
      },
      "outputs": [
        {
          "name": "stdout",
          "output_type": "stream",
          "text": [
            "3\n"
          ]
        }
      ],
      "source": [
        "print(cal2.adder(3))"
      ]
    },
    {
      "cell_type": "code",
      "execution_count": null,
      "id": "02e480be-ce74-4767-bf66-88b5c90c8ae3",
      "metadata": {
        "id": "02e480be-ce74-4767-bf66-88b5c90c8ae3",
        "outputId": "a7d67910-2dc8-4458-d504-4719c8796040"
      },
      "outputs": [
        {
          "name": "stdout",
          "output_type": "stream",
          "text": [
            "103\n"
          ]
        }
      ],
      "source": [
        "print(cal2.adder(100))"
      ]
    },
    {
      "cell_type": "code",
      "execution_count": null,
      "id": "a4e2ab42-e745-4f31-a21b-277c1e296a3f",
      "metadata": {
        "id": "a4e2ab42-e745-4f31-a21b-277c1e296a3f"
      },
      "outputs": [],
      "source": [
        "class Service :\n",
        "    secret = \"지구는 4006년에 멸망한다.\""
      ]
    },
    {
      "cell_type": "code",
      "execution_count": null,
      "id": "19cd4338-1dec-4920-989a-565fa23f9361",
      "metadata": {
        "id": "19cd4338-1dec-4920-989a-565fa23f9361"
      },
      "outputs": [],
      "source": [
        "s=Service()"
      ]
    },
    {
      "cell_type": "code",
      "execution_count": null,
      "id": "0a24f5d4-269f-443a-82b5-aacf3968b888",
      "metadata": {
        "id": "0a24f5d4-269f-443a-82b5-aacf3968b888",
        "outputId": "2068efb9-f7db-47b5-b161-4aec283ef008"
      },
      "outputs": [
        {
          "data": {
            "text/plain": [
              "'지구는 4006년에 멸망한다.'"
            ]
          },
          "execution_count": 95,
          "metadata": {},
          "output_type": "execute_result"
        }
      ],
      "source": [
        "s.secret"
      ]
    },
    {
      "cell_type": "code",
      "execution_count": null,
      "id": "b4018542-a4e1-44c8-adf7-d95702b2aebb",
      "metadata": {
        "id": "b4018542-a4e1-44c8-adf7-d95702b2aebb",
        "outputId": "5c8acf2b-35a5-4b0e-bf6e-eebb8a830dda"
      },
      "outputs": [
        {
          "data": {
            "text/plain": [
              "'지구는 4006년에 멸망한다.'"
            ]
          },
          "execution_count": 96,
          "metadata": {},
          "output_type": "execute_result"
        }
      ],
      "source": [
        "Service.secret"
      ]
    },
    {
      "cell_type": "code",
      "execution_count": null,
      "id": "ffa2031b-25d6-4dd8-9821-3e3f40c0d65a",
      "metadata": {
        "id": "ffa2031b-25d6-4dd8-9821-3e3f40c0d65a"
      },
      "outputs": [],
      "source": [
        "Service.secret = '지구가 4006년에 멸망한다는 사실은 거짓이다.'"
      ]
    },
    {
      "cell_type": "code",
      "execution_count": null,
      "id": "64a5c7c3-b66b-4dc4-a360-4ced9389c69e",
      "metadata": {
        "id": "64a5c7c3-b66b-4dc4-a360-4ced9389c69e",
        "outputId": "de431d41-24d9-4e24-b8ad-02dbc4431d08"
      },
      "outputs": [
        {
          "name": "stdout",
          "output_type": "stream",
          "text": [
            "지구가 4006년에 멸망한다는 사실은 거짓이다.\n"
          ]
        }
      ],
      "source": [
        "print(an.secret)"
      ]
    },
    {
      "cell_type": "code",
      "execution_count": null,
      "id": "9bec9e0a-9c4d-4238-a1bb-6772ce168d75",
      "metadata": {
        "id": "9bec9e0a-9c4d-4238-a1bb-6772ce168d75"
      },
      "outputs": [],
      "source": [
        "class Service:\n",
        "    secret = \"지구는 4006년에 멸망한다.\"\n",
        "\n",
        "    def sum(self, a, b):\n",
        "        result=a+b\n",
        "        print(\"%s + %s = %s이다.\" % (a, b, result))"
      ]
    },
    {
      "cell_type": "code",
      "execution_count": null,
      "id": "b99bb41d-97ec-4ec1-ba81-52d794c18ef3",
      "metadata": {
        "id": "b99bb41d-97ec-4ec1-ba81-52d794c18ef3"
      },
      "outputs": [],
      "source": [
        "an = Service()"
      ]
    },
    {
      "cell_type": "code",
      "execution_count": null,
      "id": "3638cbb5-7002-4e8b-804e-b408f21a745d",
      "metadata": {
        "id": "3638cbb5-7002-4e8b-804e-b408f21a745d",
        "outputId": "940661fb-a0f8-49fa-8a02-37da2e064540"
      },
      "outputs": [
        {
          "name": "stdout",
          "output_type": "stream",
          "text": [
            "1 + 1 = 2이다.\n"
          ]
        }
      ],
      "source": [
        "an.sum(1,1)"
      ]
    },
    {
      "cell_type": "code",
      "execution_count": null,
      "id": "7e1e74ae-2196-44ad-b9f2-b9c67e46ca88",
      "metadata": {
        "id": "7e1e74ae-2196-44ad-b9f2-b9c67e46ca88",
        "outputId": "cd706615-a303-43ea-8c63-bbfecf6cdf84"
      },
      "outputs": [
        {
          "name": "stdout",
          "output_type": "stream",
          "text": [
            "2 + 5 = 7이다.\n"
          ]
        }
      ],
      "source": [
        "an.sum(2, 5)"
      ]
    },
    {
      "cell_type": "code",
      "execution_count": null,
      "id": "6bf19ec4-0c01-43dc-9bc7-f8adcef4210f",
      "metadata": {
        "id": "6bf19ec4-0c01-43dc-9bc7-f8adcef4210f"
      },
      "outputs": [],
      "source": [
        "class Service:\n",
        "    secret = \"지구는 4006년에 멸망 할까나\"\n",
        "    def setname(self, name):\n",
        "        self.name = name\n",
        "\n",
        "    def sum(self, a, b):\n",
        "        result = a+b\n",
        "        print(\"%s님, %s + %s = %s입니다.\" % (self.name, a, b, result))"
      ]
    },
    {
      "cell_type": "code",
      "execution_count": null,
      "id": "f4ef8087-be6e-482c-9207-8ac76582d411",
      "metadata": {
        "id": "f4ef8087-be6e-482c-9207-8ac76582d411"
      },
      "outputs": [],
      "source": [
        "an=Service()"
      ]
    },
    {
      "cell_type": "code",
      "execution_count": null,
      "id": "ff7e1400-cf47-4a44-b8e8-770c853ecdb6",
      "metadata": {
        "id": "ff7e1400-cf47-4a44-b8e8-770c853ecdb6"
      },
      "outputs": [],
      "source": [
        "an.setname(\"유지니\")"
      ]
    },
    {
      "cell_type": "code",
      "execution_count": null,
      "id": "4762c0c6-7e51-4768-9662-0c9b47efce11",
      "metadata": {
        "id": "4762c0c6-7e51-4768-9662-0c9b47efce11",
        "outputId": "19849af7-8bea-46b4-90d4-f3224ba01bae"
      },
      "outputs": [
        {
          "name": "stdout",
          "output_type": "stream",
          "text": [
            "유지니님, 1 + 9 = 10입니다.\n"
          ]
        }
      ],
      "source": [
        "an.sum(1, 9)"
      ]
    },
    {
      "cell_type": "code",
      "execution_count": null,
      "id": "35bd9c2a-2d6d-4151-b958-902f8157f4d9",
      "metadata": {
        "id": "35bd9c2a-2d6d-4151-b958-902f8157f4d9"
      },
      "outputs": [],
      "source": [
        "lee = Service()"
      ]
    },
    {
      "cell_type": "code",
      "execution_count": null,
      "id": "550142a0-b6a9-4913-840f-18c70d49c698",
      "metadata": {
        "id": "550142a0-b6a9-4913-840f-18c70d49c698",
        "outputId": "a05dca00-03d9-425e-a7fa-f236f210aea4"
      },
      "outputs": [
        {
          "ename": "AttributeError",
          "evalue": "'Service' object has no attribute 'name'",
          "output_type": "error",
          "traceback": [
            "\u001b[0;31m---------------------------------------------------------------------------\u001b[0m",
            "\u001b[0;31mAttributeError\u001b[0m                            Traceback (most recent call last)",
            "Cell \u001b[0;32mIn[117], line 1\u001b[0m\n\u001b[0;32m----> 1\u001b[0m \u001b[43mlee\u001b[49m\u001b[38;5;241;43m.\u001b[39;49m\u001b[43msum\u001b[49m\u001b[43m(\u001b[49m\u001b[38;5;241;43m1\u001b[39;49m\u001b[43m,\u001b[49m\u001b[43m \u001b[49m\u001b[38;5;241;43m8\u001b[39;49m\u001b[43m)\u001b[49m\n",
            "Cell \u001b[0;32mIn[112], line 8\u001b[0m, in \u001b[0;36mService.sum\u001b[0;34m(self, a, b)\u001b[0m\n\u001b[1;32m      6\u001b[0m \u001b[38;5;28;01mdef\u001b[39;00m \u001b[38;5;21msum\u001b[39m(\u001b[38;5;28mself\u001b[39m, a, b):\n\u001b[1;32m      7\u001b[0m     result \u001b[38;5;241m=\u001b[39m a\u001b[38;5;241m+\u001b[39mb\n\u001b[0;32m----> 8\u001b[0m     \u001b[38;5;28mprint\u001b[39m(\u001b[38;5;124m\"\u001b[39m\u001b[38;5;132;01m%s\u001b[39;00m\u001b[38;5;124m님, \u001b[39m\u001b[38;5;132;01m%s\u001b[39;00m\u001b[38;5;124m + \u001b[39m\u001b[38;5;132;01m%s\u001b[39;00m\u001b[38;5;124m = \u001b[39m\u001b[38;5;132;01m%s\u001b[39;00m\u001b[38;5;124m입니다.\u001b[39m\u001b[38;5;124m\"\u001b[39m \u001b[38;5;241m%\u001b[39m (\u001b[38;5;28;43mself\u001b[39;49m\u001b[38;5;241;43m.\u001b[39;49m\u001b[43mname\u001b[49m, a, b, result))\n",
            "\u001b[0;31mAttributeError\u001b[0m: 'Service' object has no attribute 'name'"
          ]
        }
      ],
      "source": [
        "lee.sum(1, 8)"
      ]
    },
    {
      "cell_type": "code",
      "execution_count": null,
      "id": "6f548505-925d-4fca-8107-59aedbdc7d38",
      "metadata": {
        "id": "6f548505-925d-4fca-8107-59aedbdc7d38"
      },
      "outputs": [],
      "source": [
        "an.setname(\"lee\")"
      ]
    },
    {
      "cell_type": "code",
      "execution_count": null,
      "id": "bd17dffa-d490-499f-b4c4-f5a77689a794",
      "metadata": {
        "id": "bd17dffa-d490-499f-b4c4-f5a77689a794",
        "outputId": "06208e74-a14a-4186-a3a1-46dd96eb37a0"
      },
      "outputs": [
        {
          "name": "stdout",
          "output_type": "stream",
          "text": [
            "lee님, 1 + 8 = 9입니다.\n"
          ]
        }
      ],
      "source": [
        "an.sum(1, 8)"
      ]
    },
    {
      "cell_type": "code",
      "execution_count": null,
      "id": "1b3c8e3d-b9f6-455b-8093-1038a6f1ef37",
      "metadata": {
        "id": "1b3c8e3d-b9f6-455b-8093-1038a6f1ef37"
      },
      "outputs": [],
      "source": [
        "class Service:\n",
        "    secret = \"지구는 4006년에 멸망한다.\"\n",
        "    def __init__(self, name):\n",
        "        self.name = name\n",
        "\n",
        "    def sum(self, a, b):\n",
        "        result = a+b\n",
        "        print(\"%s님, %s + %s = %s입니다.\" % (self.name, a, b, result))"
      ]
    },
    {
      "cell_type": "code",
      "execution_count": null,
      "id": "ac3e5473-b4ed-49d9-87d7-6edb3463a527",
      "metadata": {
        "id": "ac3e5473-b4ed-49d9-87d7-6edb3463a527",
        "outputId": "b39bed92-2015-4ff4-8e1e-28414a5b28fc"
      },
      "outputs": [
        {
          "name": "stdout",
          "output_type": "stream",
          "text": [
            "진님님, 1 + 5 = 6입니다.\n"
          ]
        }
      ],
      "source": [
        "an=Service(\"진님\")\n",
        "an.sum(1, 5)"
      ]
    },
    {
      "cell_type": "code",
      "execution_count": null,
      "id": "81d40fd0-f802-4ec4-ade4-57a57198e4cf",
      "metadata": {
        "id": "81d40fd0-f802-4ec4-ade4-57a57198e4cf"
      },
      "outputs": [],
      "source": [
        "class FourCal:\n",
        "    pass"
      ]
    },
    {
      "cell_type": "code",
      "execution_count": null,
      "id": "27caf357-2bea-4b3b-8a20-a4aff6fc4a60",
      "metadata": {
        "id": "27caf357-2bea-4b3b-8a20-a4aff6fc4a60"
      },
      "outputs": [],
      "source": [
        "a = FourCal()"
      ]
    },
    {
      "cell_type": "code",
      "execution_count": null,
      "id": "0a72be79-2420-44bf-87b1-0670c8ddea1c",
      "metadata": {
        "id": "0a72be79-2420-44bf-87b1-0670c8ddea1c",
        "outputId": "0a7eeb84-22f0-4a2e-ce07-bc7db6982845"
      },
      "outputs": [
        {
          "name": "stdout",
          "output_type": "stream",
          "text": [
            "<class '__main__.FourCal'>\n"
          ]
        }
      ],
      "source": [
        "print(type(a))"
      ]
    },
    {
      "cell_type": "code",
      "execution_count": null,
      "id": "c432d372-1cf2-4575-b5b9-f35194c44d85",
      "metadata": {
        "id": "c432d372-1cf2-4575-b5b9-f35194c44d85"
      },
      "outputs": [],
      "source": [
        "class FourCal:\n",
        "    def setdata(self, first, second):\n",
        "        self.first = first\n",
        "        self.second = second"
      ]
    },
    {
      "cell_type": "code",
      "execution_count": null,
      "id": "f0fafb7d-1418-4c41-bafd-e35fae48482d",
      "metadata": {
        "id": "f0fafb7d-1418-4c41-bafd-e35fae48482d"
      },
      "outputs": [],
      "source": [
        "a = FourCal()"
      ]
    },
    {
      "cell_type": "code",
      "execution_count": null,
      "id": "238b59a4-6800-427c-8e29-9db2da75a619",
      "metadata": {
        "id": "238b59a4-6800-427c-8e29-9db2da75a619"
      },
      "outputs": [],
      "source": [
        "a.setdata(4, 2)"
      ]
    },
    {
      "cell_type": "code",
      "execution_count": null,
      "id": "95307b91-0cc7-481e-85d0-bbfbe430a7d3",
      "metadata": {
        "id": "95307b91-0cc7-481e-85d0-bbfbe430a7d3",
        "outputId": "764824c3-2e85-408a-add7-da3adde54e65"
      },
      "outputs": [
        {
          "name": "stdout",
          "output_type": "stream",
          "text": [
            "4\n"
          ]
        }
      ],
      "source": [
        "print(a.first)"
      ]
    },
    {
      "cell_type": "code",
      "execution_count": null,
      "id": "c426fac5-5613-405f-b7a6-86be94137160",
      "metadata": {
        "id": "c426fac5-5613-405f-b7a6-86be94137160",
        "outputId": "48fa9e1a-7a39-4143-a223-17a17796d47b"
      },
      "outputs": [
        {
          "name": "stdout",
          "output_type": "stream",
          "text": [
            "2\n"
          ]
        }
      ],
      "source": [
        "print(a.second)"
      ]
    },
    {
      "cell_type": "code",
      "execution_count": null,
      "id": "46dc2434-8a34-40ea-b2c6-754f943065ab",
      "metadata": {
        "id": "46dc2434-8a34-40ea-b2c6-754f943065ab",
        "outputId": "05ccc9d2-bf8e-4467-f135-73b881b94e79"
      },
      "outputs": [
        {
          "data": {
            "text/plain": [
              "4"
            ]
          },
          "execution_count": 132,
          "metadata": {},
          "output_type": "execute_result"
        }
      ],
      "source": [
        "a.first"
      ]
    },
    {
      "cell_type": "code",
      "execution_count": null,
      "id": "29603ed2-ff65-4ad9-8d14-820f047f62b6",
      "metadata": {
        "id": "29603ed2-ff65-4ad9-8d14-820f047f62b6",
        "outputId": "250dbc70-77eb-406a-ba32-06d9c840868b"
      },
      "outputs": [
        {
          "data": {
            "text/plain": [
              "2"
            ]
          },
          "execution_count": 133,
          "metadata": {},
          "output_type": "execute_result"
        }
      ],
      "source": [
        "a.second"
      ]
    },
    {
      "cell_type": "code",
      "execution_count": null,
      "id": "85228132-87e2-41d0-a34d-afcac6339cee",
      "metadata": {
        "id": "85228132-87e2-41d0-a34d-afcac6339cee"
      },
      "outputs": [],
      "source": [
        "class FourCal:\n",
        "    def setdata(self, first, second):\n",
        "        self.first = first\n",
        "        self.second = second\n",
        "\n",
        "    def sum(self):\n",
        "        result = self.first + self.second\n",
        "        return result"
      ]
    },
    {
      "cell_type": "code",
      "execution_count": null,
      "id": "947ff97b-b37b-48d5-baf9-f67f6c4a2918",
      "metadata": {
        "id": "947ff97b-b37b-48d5-baf9-f67f6c4a2918"
      },
      "outputs": [],
      "source": [
        "a=FourCal()\n",
        "a.setdata(4, 2)"
      ]
    },
    {
      "cell_type": "code",
      "execution_count": null,
      "id": "afa82f26-5831-4e19-8202-5941e9205ebf",
      "metadata": {
        "id": "afa82f26-5831-4e19-8202-5941e9205ebf",
        "outputId": "204d695a-582c-41a6-a6e5-d2bb364ba7eb"
      },
      "outputs": [
        {
          "data": {
            "text/plain": [
              "6"
            ]
          },
          "execution_count": 136,
          "metadata": {},
          "output_type": "execute_result"
        }
      ],
      "source": [
        "a.sum()"
      ]
    },
    {
      "cell_type": "code",
      "execution_count": null,
      "id": "6065c457-2e5c-4143-b9fd-d260f617f35e",
      "metadata": {
        "id": "6065c457-2e5c-4143-b9fd-d260f617f35e"
      },
      "outputs": [],
      "source": [
        "class FourCal:\n",
        "    def setdata2(self, first, second):\n",
        "        self.first = first\n",
        "        self.second = second\n",
        "\n",
        "    def sum(self):\n",
        "        result = self.first + self.second\n",
        "        return result\n",
        "\n",
        "    def mul(self):\n",
        "        result = self.first * self.second\n",
        "        return result\n",
        "\n",
        "    def sub(self):\n",
        "        result = self.first - self.second\n",
        "        return result\n",
        "\n",
        "    def div(self):\n",
        "        result = self.first / self.second\n",
        "        return result"
      ]
    },
    {
      "cell_type": "code",
      "execution_count": null,
      "id": "081461bc-6d9b-447e-bdc4-e306de7e2df4",
      "metadata": {
        "id": "081461bc-6d9b-447e-bdc4-e306de7e2df4"
      },
      "outputs": [],
      "source": [
        "a = FourCal()"
      ]
    },
    {
      "cell_type": "code",
      "execution_count": null,
      "id": "957d8a9a-8486-4134-8840-547af29218a3",
      "metadata": {
        "id": "957d8a9a-8486-4134-8840-547af29218a3"
      },
      "outputs": [],
      "source": [
        "a.setdata2(4, 2)"
      ]
    },
    {
      "cell_type": "code",
      "execution_count": null,
      "id": "e95afb82-1a82-4022-af39-19340046a5de",
      "metadata": {
        "id": "e95afb82-1a82-4022-af39-19340046a5de",
        "outputId": "6eafc8b1-9b9e-445f-a4b4-82892b395db8"
      },
      "outputs": [
        {
          "name": "stdout",
          "output_type": "stream",
          "text": [
            "6\n"
          ]
        }
      ],
      "source": [
        "print(a.sum())"
      ]
    },
    {
      "cell_type": "code",
      "execution_count": null,
      "id": "f218d887-5d35-42df-950a-9be94ca18340",
      "metadata": {
        "id": "f218d887-5d35-42df-950a-9be94ca18340",
        "outputId": "52848c4d-48a0-4d0d-feeb-8f0bb8ab8a1f"
      },
      "outputs": [
        {
          "data": {
            "text/plain": [
              "8"
            ]
          },
          "execution_count": 185,
          "metadata": {},
          "output_type": "execute_result"
        }
      ],
      "source": [
        "a.mul()"
      ]
    },
    {
      "cell_type": "code",
      "execution_count": null,
      "id": "6685da8c-b053-4803-b638-8fe6f6eff4c3",
      "metadata": {
        "id": "6685da8c-b053-4803-b638-8fe6f6eff4c3",
        "outputId": "1aa8519c-e18a-4878-d2b6-b83f230cd130"
      },
      "outputs": [
        {
          "data": {
            "text/plain": [
              "2"
            ]
          },
          "execution_count": 186,
          "metadata": {},
          "output_type": "execute_result"
        }
      ],
      "source": [
        "a.sub()"
      ]
    },
    {
      "cell_type": "code",
      "execution_count": null,
      "id": "334d5613-4f76-4917-957b-229503eb7fd5",
      "metadata": {
        "id": "334d5613-4f76-4917-957b-229503eb7fd5",
        "outputId": "789c6ba1-a853-4e9c-a42b-db44389a663c"
      },
      "outputs": [
        {
          "data": {
            "text/plain": [
              "2.0"
            ]
          },
          "execution_count": 187,
          "metadata": {},
          "output_type": "execute_result"
        }
      ],
      "source": [
        "a.div()"
      ]
    },
    {
      "cell_type": "code",
      "execution_count": null,
      "id": "e8b1c1ef-eb8d-4d49-8c70-218a659aadad",
      "metadata": {
        "id": "e8b1c1ef-eb8d-4d49-8c70-218a659aadad"
      },
      "outputs": [],
      "source": [
        "b = FourCal()"
      ]
    },
    {
      "cell_type": "code",
      "execution_count": null,
      "id": "c3588322-e173-4a9b-9721-210f0fd39126",
      "metadata": {
        "id": "c3588322-e173-4a9b-9721-210f0fd39126"
      },
      "outputs": [],
      "source": [
        "b.setdata2(5, 6)"
      ]
    },
    {
      "cell_type": "code",
      "execution_count": null,
      "id": "7eb9d150-edee-4817-885d-be54bf4ca98c",
      "metadata": {
        "id": "7eb9d150-edee-4817-885d-be54bf4ca98c",
        "outputId": "a7ea3c0e-461c-4811-8ec8-f5720a3cb399"
      },
      "outputs": [
        {
          "data": {
            "text/plain": [
              "-1"
            ]
          },
          "execution_count": 191,
          "metadata": {},
          "output_type": "execute_result"
        }
      ],
      "source": [
        "b.sub()"
      ]
    },
    {
      "cell_type": "code",
      "execution_count": null,
      "id": "6a5accd4-fbaf-4eb3-9d8c-26d3fd980248",
      "metadata": {
        "id": "6a5accd4-fbaf-4eb3-9d8c-26d3fd980248",
        "outputId": "9bf1f8d0-5898-4697-c983-16b4360649b8"
      },
      "outputs": [
        {
          "name": "stdout",
          "output_type": "stream",
          "text": [
            "Player 1 rolled[1, 5, 3]\n",
            "Player 2 rolled[2, 2, 6]\n",
            "Player 2 wins\n"
          ]
        }
      ],
      "source": [
        "import random\n",
        "\n",
        "player1_dice = []\n",
        "player2_dice = []\n",
        "\n",
        "for i in range(3) :\n",
        "    player1_dice.append(random.randint(1, 6))\n",
        "    player2_dice.append(random.randint(1, 6))\n",
        "\n",
        "print(\"Player 1 rolled\" + str(player1_dice))\n",
        "print(\"Player 2 rolled\" + str(player2_dice))\n",
        "\n",
        "if sum(player1_dice) == sum(player2_dice):\n",
        "    print(\"Draw\")\n",
        "elif sum(player1_dice) > sum(player2_dice):\n",
        "    print(\"Player 1 wins\")\n",
        "else:\n",
        "    print(\"Player 2 wins\")"
      ]
    },
    {
      "cell_type": "code",
      "execution_count": null,
      "id": "a503dc57-1b86-452b-a525-fa8ebbde7885",
      "metadata": {
        "id": "a503dc57-1b86-452b-a525-fa8ebbde7885"
      },
      "outputs": [],
      "source": []
    },
    {
      "cell_type": "code",
      "execution_count": null,
      "id": "28161c82-ebbe-45cb-84ec-b61acbc90571",
      "metadata": {
        "id": "28161c82-ebbe-45cb-84ec-b61acbc90571"
      },
      "outputs": [],
      "source": []
    }
  ],
  "metadata": {
    "kernelspec": {
      "display_name": "Python 3 (ipykernel)",
      "language": "python",
      "name": "python3"
    },
    "language_info": {
      "codemirror_mode": {
        "name": "ipython",
        "version": 3
      },
      "file_extension": ".py",
      "mimetype": "text/x-python",
      "name": "python",
      "nbconvert_exporter": "python",
      "pygments_lexer": "ipython3",
      "version": "3.11.5"
    },
    "colab": {
      "provenance": [],
      "include_colab_link": true
    }
  },
  "nbformat": 4,
  "nbformat_minor": 5
}