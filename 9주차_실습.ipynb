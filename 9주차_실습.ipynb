{
  "cells": [
    {
      "cell_type": "markdown",
      "metadata": {
        "id": "view-in-github",
        "colab_type": "text"
      },
      "source": [
        "<a href=\"https://colab.research.google.com/github/jjinseul/python_hanyang-mot/blob/main/9%EC%A3%BC%EC%B0%A8_%EC%8B%A4%EC%8A%B5.ipynb\" target=\"_parent\"><img src=\"https://colab.research.google.com/assets/colab-badge.svg\" alt=\"Open In Colab\"/></a>"
      ]
    },
    {
      "cell_type": "code",
      "execution_count": null,
      "id": "41fcdcaa-3468-48bb-b010-95757ea3a260",
      "metadata": {
        "id": "41fcdcaa-3468-48bb-b010-95757ea3a260"
      },
      "outputs": [],
      "source": [
        "f = [1, 2, 3, 4, 5]"
      ]
    },
    {
      "cell_type": "code",
      "execution_count": null,
      "id": "f66bb34b-cf68-4705-b0e3-8a6f603a9f03",
      "metadata": {
        "id": "f66bb34b-cf68-4705-b0e3-8a6f603a9f03",
        "outputId": "451f6b54-067e-41c2-9cc6-55590eb64030"
      },
      "outputs": [
        {
          "data": {
            "text/plain": [
              "[1, 2, 3, 4, 5]"
            ]
          },
          "execution_count": 2,
          "metadata": {},
          "output_type": "execute_result"
        }
      ],
      "source": [
        "f"
      ]
    },
    {
      "cell_type": "code",
      "execution_count": null,
      "id": "b4a5e886-646f-4703-88b7-1719965b6033",
      "metadata": {
        "id": "b4a5e886-646f-4703-88b7-1719965b6033"
      },
      "outputs": [],
      "source": [
        "number_list = []\n",
        "number_list.append(1)\n",
        "number_list.append(2)\n",
        "number_list.append(3)\n",
        "number_list.append(4)\n",
        "number_list.append(5)"
      ]
    },
    {
      "cell_type": "code",
      "execution_count": null,
      "id": "01bae293-43ca-46ce-ba40-b8b834b1cf12",
      "metadata": {
        "id": "01bae293-43ca-46ce-ba40-b8b834b1cf12",
        "outputId": "e2513421-d773-4db0-b746-d5c20ac15d98"
      },
      "outputs": [
        {
          "data": {
            "text/plain": [
              "[1, 2, 3, 4, 5]"
            ]
          },
          "execution_count": 6,
          "metadata": {},
          "output_type": "execute_result"
        }
      ],
      "source": [
        "number_list"
      ]
    },
    {
      "cell_type": "code",
      "execution_count": null,
      "id": "100a21bf-97cd-4884-804b-dba735fc01fd",
      "metadata": {
        "id": "100a21bf-97cd-4884-804b-dba735fc01fd",
        "outputId": "71e97ae0-76d9-4439-a684-471abd265c03"
      },
      "outputs": [
        {
          "data": {
            "text/plain": [
              "[1, 2, 3, 4, 5]"
            ]
          },
          "execution_count": 14,
          "metadata": {},
          "output_type": "execute_result"
        }
      ],
      "source": [
        "list(range(1, 6))"
      ]
    },
    {
      "cell_type": "code",
      "execution_count": null,
      "id": "ff76020e-5779-4809-bf54-4e71538fe0c4",
      "metadata": {
        "id": "ff76020e-5779-4809-bf54-4e71538fe0c4"
      },
      "outputs": [],
      "source": [
        "number_list1 = [number for number in range(1, 6)]"
      ]
    },
    {
      "cell_type": "code",
      "execution_count": null,
      "id": "7ef07b67-3887-4f39-98ac-e03f3d2fb9e3",
      "metadata": {
        "id": "7ef07b67-3887-4f39-98ac-e03f3d2fb9e3",
        "outputId": "b124644c-f117-4652-b61b-fc078ec3a667"
      },
      "outputs": [
        {
          "data": {
            "text/plain": [
              "[1, 2, 3, 4, 5]"
            ]
          },
          "execution_count": 26,
          "metadata": {},
          "output_type": "execute_result"
        }
      ],
      "source": [
        "number_list1"
      ]
    },
    {
      "cell_type": "code",
      "execution_count": null,
      "id": "e618e3d9-3166-4561-a104-94f574bf1de1",
      "metadata": {
        "id": "e618e3d9-3166-4561-a104-94f574bf1de1"
      },
      "outputs": [],
      "source": [
        "number_list2= [number -1 for number in range(1,6)]"
      ]
    },
    {
      "cell_type": "code",
      "execution_count": null,
      "id": "cffbe25d-a3df-49c6-950e-42b534f37681",
      "metadata": {
        "id": "cffbe25d-a3df-49c6-950e-42b534f37681",
        "outputId": "56581eb5-103c-44fc-dce6-097f69179e7b"
      },
      "outputs": [
        {
          "data": {
            "text/plain": [
              "[0, 1, 2, 3, 4]"
            ]
          },
          "execution_count": 28,
          "metadata": {},
          "output_type": "execute_result"
        }
      ],
      "source": [
        "number_list2"
      ]
    },
    {
      "cell_type": "code",
      "execution_count": null,
      "id": "598e5456-6f8a-43f0-b0f6-3c6d7e42b591",
      "metadata": {
        "id": "598e5456-6f8a-43f0-b0f6-3c6d7e42b591"
      },
      "outputs": [],
      "source": [
        "a_list = [number for number in range(1, 6) if number % 2 == 1]"
      ]
    },
    {
      "cell_type": "code",
      "execution_count": null,
      "id": "f8a1b3c5-2f96-4791-b7ea-7dfd76594f99",
      "metadata": {
        "id": "f8a1b3c5-2f96-4791-b7ea-7dfd76594f99",
        "outputId": "e851ce01-d168-4e67-a724-3c3b669a657b"
      },
      "outputs": [
        {
          "data": {
            "text/plain": [
              "[1, 3, 5]"
            ]
          },
          "execution_count": 29,
          "metadata": {},
          "output_type": "execute_result"
        }
      ],
      "source": [
        "a_list"
      ]
    },
    {
      "cell_type": "code",
      "execution_count": null,
      "id": "4c2528b2-0626-40e1-9455-a6316efd77d5",
      "metadata": {
        "id": "4c2528b2-0626-40e1-9455-a6316efd77d5"
      },
      "outputs": [],
      "source": [
        "b_list = []\n",
        "for number in range(1,6) :\n",
        "    if number %2 == 1:\n",
        "        b_list.append(number)"
      ]
    },
    {
      "cell_type": "code",
      "execution_count": null,
      "id": "83a353bf-5324-48c8-bce5-74b6804644d3",
      "metadata": {
        "id": "83a353bf-5324-48c8-bce5-74b6804644d3",
        "outputId": "8f36ebf3-b6a6-4225-e267-6245b3ee2945"
      },
      "outputs": [
        {
          "data": {
            "text/plain": [
              "[1, 3, 5]"
            ]
          },
          "execution_count": 35,
          "metadata": {},
          "output_type": "execute_result"
        }
      ],
      "source": [
        "b_list"
      ]
    },
    {
      "cell_type": "code",
      "execution_count": null,
      "id": "287e4f0d-c693-4a31-b381-7c08aca479f7",
      "metadata": {
        "id": "287e4f0d-c693-4a31-b381-7c08aca479f7"
      },
      "outputs": [],
      "source": [
        "sentence = ['I', 'Love', 'Python', 'Soooooooo', 'Much!']"
      ]
    },
    {
      "cell_type": "code",
      "execution_count": null,
      "id": "39d63822-3d9a-4f37-b7ed-231ea3a5eba5",
      "metadata": {
        "id": "39d63822-3d9a-4f37-b7ed-231ea3a5eba5",
        "outputId": "fb9a5a77-ace6-48fc-cea6-c030c7acace0"
      },
      "outputs": [
        {
          "data": {
            "text/plain": [
              "['i', 'love', 'python', 'soooooooo', 'much!']"
            ]
          },
          "execution_count": 47,
          "metadata": {},
          "output_type": "execute_result"
        }
      ],
      "source": [
        "[word.lower() for word in sentence]"
      ]
    },
    {
      "cell_type": "code",
      "execution_count": null,
      "id": "10bedeaf-e115-48cd-a2b2-fb9be607ab24",
      "metadata": {
        "id": "10bedeaf-e115-48cd-a2b2-fb9be607ab24",
        "outputId": "d3148d71-cb66-4a76-886b-da491a1299a9"
      },
      "outputs": [
        {
          "data": {
            "text/plain": [
              "['Soooooooo']"
            ]
          },
          "execution_count": 48,
          "metadata": {},
          "output_type": "execute_result"
        }
      ],
      "source": [
        "[word for word in sentence if len(word) > 6]"
      ]
    },
    {
      "cell_type": "code",
      "execution_count": null,
      "id": "b573eaff-70fc-482c-891c-4509e9fd8835",
      "metadata": {
        "id": "b573eaff-70fc-482c-891c-4509e9fd8835",
        "outputId": "280c4b3f-d341-4218-82e7-4644c12b7bfa"
      },
      "outputs": [
        {
          "data": {
            "text/plain": [
              "['I', 'LOVE']"
            ]
          },
          "execution_count": 53,
          "metadata": {},
          "output_type": "execute_result"
        }
      ],
      "source": [
        "[word.upper() for word in sentence if len(word) < 5]"
      ]
    },
    {
      "cell_type": "code",
      "execution_count": null,
      "id": "2ec38236-7d4a-4f3f-85d1-f4f08df8e9ad",
      "metadata": {
        "id": "2ec38236-7d4a-4f3f-85d1-f4f08df8e9ad",
        "outputId": "105bf05a-cecb-4bba-8b1f-1bd495252083"
      },
      "outputs": [
        {
          "data": {
            "text/plain": [
              "[0, 1, 2, 3, 4, 5, 6, 7, 8, 9]"
            ]
          },
          "execution_count": 55,
          "metadata": {},
          "output_type": "execute_result"
        }
      ],
      "source": [
        "list(range(10))"
      ]
    },
    {
      "cell_type": "code",
      "execution_count": null,
      "id": "d724a48e-5c64-42ea-bbe3-58e4e3626df4",
      "metadata": {
        "id": "d724a48e-5c64-42ea-bbe3-58e4e3626df4",
        "outputId": "b8c9603a-3814-4642-f6ea-ef971cdb46e1"
      },
      "outputs": [
        {
          "data": {
            "text/plain": [
              "[(0, 0, 0),\n",
              " (1, 1, 1),\n",
              " (2, 4, 8),\n",
              " (3, 9, 27),\n",
              " (4, 16, 64),\n",
              " (5, 25, 125),\n",
              " (6, 36, 216),\n",
              " (7, 49, 343),\n",
              " (8, 64, 512),\n",
              " (9, 81, 729)]"
            ]
          },
          "execution_count": 56,
          "metadata": {},
          "output_type": "execute_result"
        }
      ],
      "source": [
        "[(x, x ** 2, x ** 3) for x in range(10)]"
      ]
    },
    {
      "cell_type": "code",
      "execution_count": null,
      "id": "c0507bec-a4eb-4327-b914-5ae622758bb4",
      "metadata": {
        "id": "c0507bec-a4eb-4327-b914-5ae622758bb4",
        "outputId": "ea90acb3-10f2-4b8d-eb6f-62df5ba99b2c"
      },
      "outputs": [
        {
          "name": "stdout",
          "output_type": "stream",
          "text": [
            "1 1\n",
            "1 2\n",
            "2 1\n",
            "2 2\n",
            "3 1\n",
            "3 2\n"
          ]
        }
      ],
      "source": [
        "rows = range(1,4)\n",
        "cols = range(1,3)\n",
        "for row in rows:\n",
        "    for col in cols:\n",
        "        print(row,col)"
      ]
    },
    {
      "cell_type": "code",
      "execution_count": null,
      "id": "b674325a-f265-49fe-bf5b-797099ada228",
      "metadata": {
        "id": "b674325a-f265-49fe-bf5b-797099ada228",
        "outputId": "65593a84-88af-47ce-b0ed-fbfcb48bb097"
      },
      "outputs": [
        {
          "name": "stdout",
          "output_type": "stream",
          "text": [
            "(1, 1)\n",
            "(1, 2)\n",
            "(2, 1)\n",
            "(2, 2)\n",
            "(3, 1)\n",
            "(3, 2)\n"
          ]
        }
      ],
      "source": [
        "rows = range(1,4)\n",
        "cols = range(1,3)\n",
        "cells = [(row, col) for row in rows for col in cols]\n",
        "for cell in cells :\n",
        "    print(cell)"
      ]
    },
    {
      "cell_type": "code",
      "execution_count": null,
      "id": "8f82482d-b7f7-4bff-85bb-e9d0175d58ef",
      "metadata": {
        "id": "8f82482d-b7f7-4bff-85bb-e9d0175d58ef",
        "outputId": "ff32cd2f-0ab9-4e22-fefa-ba39a5e36b29"
      },
      "outputs": [
        {
          "data": {
            "text/plain": [
              "[(1, 0),\n",
              " (2, 0),\n",
              " (2, 1),\n",
              " (3, 0),\n",
              " (3, 1),\n",
              " (3, 2),\n",
              " (4, 0),\n",
              " (4, 1),\n",
              " (4, 2),\n",
              " (4, 3)]"
            ]
          },
          "execution_count": 64,
          "metadata": {},
          "output_type": "execute_result"
        }
      ],
      "source": [
        "[(i,j) for i in range(5) for j in range(i)]"
      ]
    },
    {
      "cell_type": "code",
      "execution_count": null,
      "id": "98841f8a-33f5-4dd9-a264-2dfb3af05d30",
      "metadata": {
        "id": "98841f8a-33f5-4dd9-a264-2dfb3af05d30"
      },
      "outputs": [],
      "source": [
        "word = 'letters'"
      ]
    },
    {
      "cell_type": "code",
      "execution_count": null,
      "id": "c3981ee2-a506-4b75-9ecd-1f6887d915f5",
      "metadata": {
        "id": "c3981ee2-a506-4b75-9ecd-1f6887d915f5",
        "outputId": "4ee51553-d1b2-4aae-9b61-58ad25bf4145"
      },
      "outputs": [
        {
          "data": {
            "text/plain": [
              "str"
            ]
          },
          "execution_count": 73,
          "metadata": {},
          "output_type": "execute_result"
        }
      ],
      "source": [
        "type(word)"
      ]
    },
    {
      "cell_type": "code",
      "execution_count": null,
      "id": "76e940f3-6107-47f4-ba12-3922c9f920a2",
      "metadata": {
        "id": "76e940f3-6107-47f4-ba12-3922c9f920a2",
        "outputId": "38c84ea3-7690-47cb-e551-bd8bb9de1836"
      },
      "outputs": [
        {
          "name": "stdout",
          "output_type": "stream",
          "text": [
            "l\n",
            "e\n",
            "t\n",
            "t\n",
            "e\n",
            "r\n",
            "s\n"
          ]
        }
      ],
      "source": [
        "for letter in word:\n",
        "    print(letter)"
      ]
    },
    {
      "cell_type": "code",
      "execution_count": null,
      "id": "50bf26fb-60bf-4e94-b7c2-66cf7bc6b65d",
      "metadata": {
        "id": "50bf26fb-60bf-4e94-b7c2-66cf7bc6b65d"
      },
      "outputs": [],
      "source": [
        "letter_counts = {letter: word.count(letter) for letter in word}"
      ]
    },
    {
      "cell_type": "code",
      "execution_count": null,
      "id": "2d79897a-edec-415d-bc25-09eda80ca348",
      "metadata": {
        "id": "2d79897a-edec-415d-bc25-09eda80ca348",
        "outputId": "714124c7-bd9b-4c2b-b781-7044677e34ef"
      },
      "outputs": [
        {
          "data": {
            "text/plain": [
              "{'l': 1, 'e': 2, 't': 2, 'r': 1, 's': 1}"
            ]
          },
          "execution_count": 75,
          "metadata": {},
          "output_type": "execute_result"
        }
      ],
      "source": [
        "letter_counts"
      ]
    },
    {
      "cell_type": "code",
      "execution_count": null,
      "id": "53c77602-3863-499e-8b0a-15c23be95635",
      "metadata": {
        "id": "53c77602-3863-499e-8b0a-15c23be95635"
      },
      "outputs": [],
      "source": [
        "word='letters'\n",
        "letter_counts2={letter:word.count(letter) for letter in set(word)}"
      ]
    },
    {
      "cell_type": "code",
      "execution_count": null,
      "id": "3d3058ac-0811-4c67-91f5-eb41531a4991",
      "metadata": {
        "id": "3d3058ac-0811-4c67-91f5-eb41531a4991",
        "outputId": "71e8e647-0536-4edf-c195-9cb2e0273191"
      },
      "outputs": [
        {
          "data": {
            "text/plain": [
              "{'r': 1, 'l': 1, 't': 2, 's': 1, 'e': 2}"
            ]
          },
          "execution_count": 84,
          "metadata": {},
          "output_type": "execute_result"
        }
      ],
      "source": [
        "letter_counts2"
      ]
    },
    {
      "cell_type": "code",
      "execution_count": null,
      "id": "ae56e9c3-898b-43cf-bfed-4f9efa112a55",
      "metadata": {
        "id": "ae56e9c3-898b-43cf-bfed-4f9efa112a55"
      },
      "outputs": [],
      "source": [
        "a_set={number for number in range(1,6) if number%3 == 1}"
      ]
    },
    {
      "cell_type": "code",
      "execution_count": null,
      "id": "ee823d35-dab7-49ba-8156-fcabfa05b866",
      "metadata": {
        "id": "ee823d35-dab7-49ba-8156-fcabfa05b866",
        "outputId": "00accfe6-31d2-4de9-9c8c-014be08daf30"
      },
      "outputs": [
        {
          "data": {
            "text/plain": [
              "{1, 4}"
            ]
          },
          "execution_count": 89,
          "metadata": {},
          "output_type": "execute_result"
        }
      ],
      "source": [
        "a_set"
      ]
    },
    {
      "cell_type": "code",
      "execution_count": null,
      "id": "3dd0b0b2-f343-4e6e-bbfd-b4452700a465",
      "metadata": {
        "id": "3dd0b0b2-f343-4e6e-bbfd-b4452700a465"
      },
      "outputs": [],
      "source": [
        "def sum(a,b):\n",
        "    return a+b"
      ]
    },
    {
      "cell_type": "code",
      "execution_count": null,
      "id": "7d59cea0-b143-47c7-8605-0238db2156aa",
      "metadata": {
        "id": "7d59cea0-b143-47c7-8605-0238db2156aa",
        "outputId": "eca9b1e3-ac82-4c35-f167-00a47d1dadbd"
      },
      "outputs": [
        {
          "data": {
            "text/plain": [
              "3"
            ]
          },
          "execution_count": 92,
          "metadata": {},
          "output_type": "execute_result"
        }
      ],
      "source": [
        "sum(1, 2)"
      ]
    },
    {
      "cell_type": "code",
      "execution_count": null,
      "id": "0d137de1-0193-44e8-b35b-8b6c43ce3a23",
      "metadata": {
        "id": "0d137de1-0193-44e8-b35b-8b6c43ce3a23",
        "outputId": "904c1f38-df6c-49b5-d54a-55269d02e546"
      },
      "outputs": [
        {
          "data": {
            "text/plain": [
              "4.4"
            ]
          },
          "execution_count": 93,
          "metadata": {},
          "output_type": "execute_result"
        }
      ],
      "source": [
        "sum(1.3, 3.1)"
      ]
    },
    {
      "cell_type": "code",
      "execution_count": null,
      "id": "2edb5cd7-7852-465f-bda9-56e6e7abe719",
      "metadata": {
        "id": "2edb5cd7-7852-465f-bda9-56e6e7abe719",
        "outputId": "cf115675-6e3a-4778-df36-ddc0187e0dcd"
      },
      "outputs": [
        {
          "data": {
            "text/plain": [
              "'love python'"
            ]
          },
          "execution_count": 95,
          "metadata": {},
          "output_type": "execute_result"
        }
      ],
      "source": [
        "sum('love', ' python')"
      ]
    },
    {
      "cell_type": "code",
      "execution_count": null,
      "id": "08ce63cb-7202-4553-a0fc-56ca02383da5",
      "metadata": {
        "id": "08ce63cb-7202-4553-a0fc-56ca02383da5"
      },
      "outputs": [],
      "source": [
        "days=['monday', 'tuesday', 'wednesday']\n",
        "fruits=['banana', 'orange', 'peach']\n",
        "drinks=['coffee', 'tea', 'beer']\n",
        "desserts=['tiramisu', 'ice cream', 'pie', 'pudding']"
      ]
    },
    {
      "cell_type": "code",
      "execution_count": null,
      "id": "8218037b-dd64-4475-bbb8-861aa8a527ef",
      "metadata": {
        "id": "8218037b-dd64-4475-bbb8-861aa8a527ef",
        "outputId": "3c4a83a2-565b-47fc-9ccf-4ba13f704c25"
      },
      "outputs": [
        {
          "name": "stdout",
          "output_type": "stream",
          "text": [
            "monday :drink coffee - eat banana - enjoy tiramisu\n",
            "tuesday :drink tea - eat orange - enjoy ice cream\n",
            "wednesday :drink beer - eat peach - enjoy pie\n"
          ]
        }
      ],
      "source": [
        "for day, fruits, drink, desserts in zip(days, fruits, drinks, desserts):\n",
        "    print(day, \":drink\", drink, \"- eat\", fruits, \"- enjoy\", desserts)"
      ]
    },
    {
      "cell_type": "code",
      "execution_count": null,
      "id": "88cf0b25-9aad-4858-8b6a-4aad975d8dcc",
      "metadata": {
        "id": "88cf0b25-9aad-4858-8b6a-4aad975d8dcc"
      },
      "outputs": [],
      "source": [
        "english = 'monday', 'tuesday', 'wednesday'\n",
        "french = 'lundi', 'mardi', 'mercredi'"
      ]
    },
    {
      "cell_type": "code",
      "execution_count": null,
      "id": "1ea93f6e-6e0e-46a3-897d-de0e98f85c9f",
      "metadata": {
        "id": "1ea93f6e-6e0e-46a3-897d-de0e98f85c9f",
        "outputId": "791788b2-11e6-4f60-bd3d-90b29713f6f7"
      },
      "outputs": [
        {
          "data": {
            "text/plain": [
              "[('monday', 'lundi'), ('tuesday', 'mardi'), ('wednesday', 'mercredi')]"
            ]
          },
          "execution_count": 107,
          "metadata": {},
          "output_type": "execute_result"
        }
      ],
      "source": [
        "list(zip(english, french))"
      ]
    },
    {
      "cell_type": "code",
      "execution_count": null,
      "id": "63d17088-805c-4275-8cfa-1cf8ab78d320",
      "metadata": {
        "id": "63d17088-805c-4275-8cfa-1cf8ab78d320",
        "outputId": "b85f7b78-505b-4277-fe84-2d01a20ce08e"
      },
      "outputs": [
        {
          "data": {
            "text/plain": [
              "{'monday': 'lundi', 'tuesday': 'mardi', 'wednesday': 'mercredi'}"
            ]
          },
          "execution_count": 109,
          "metadata": {},
          "output_type": "execute_result"
        }
      ],
      "source": [
        "dict(zip(english,french))"
      ]
    },
    {
      "cell_type": "code",
      "execution_count": null,
      "id": "b278765a-7ebb-43f4-8791-564d7f5b5ec1",
      "metadata": {
        "id": "b278765a-7ebb-43f4-8791-564d7f5b5ec1"
      },
      "outputs": [],
      "source": [
        "def menu(wine,entree,dessert):\n",
        "    return{'wine':wine,'entree':entree,'dessert':dessert}"
      ]
    },
    {
      "cell_type": "code",
      "execution_count": null,
      "id": "b6453e0c-735f-4eda-b86a-6d5c4d1db023",
      "metadata": {
        "id": "b6453e0c-735f-4eda-b86a-6d5c4d1db023",
        "outputId": "701fbe0f-0800-482e-9d44-751e86b469f9"
      },
      "outputs": [
        {
          "data": {
            "text/plain": [
              "{'wine': 'chardonnay', 'entree': 'chicken', 'dessert': 'cake'}"
            ]
          },
          "execution_count": 122,
          "metadata": {},
          "output_type": "execute_result"
        }
      ],
      "source": [
        "menu('chardonnay', 'chicken', 'cake')"
      ]
    },
    {
      "cell_type": "code",
      "execution_count": null,
      "id": "b404003d-b190-40c7-a2b1-124be74ed00b",
      "metadata": {
        "id": "b404003d-b190-40c7-a2b1-124be74ed00b",
        "outputId": "8266f679-42bc-4d1e-b895-11d5bd652f28"
      },
      "outputs": [
        {
          "data": {
            "text/plain": [
              "{'wine': 'bordeaux', 'entree': 'beef', 'dessert': 'bagel'}"
            ]
          },
          "execution_count": 117,
          "metadata": {},
          "output_type": "execute_result"
        }
      ],
      "source": [
        "menu(entree='beef', dessert='bagel', wine='bordeaux')"
      ]
    },
    {
      "cell_type": "code",
      "execution_count": null,
      "id": "96144b63-d870-4802-bc22-d3411e78186a",
      "metadata": {
        "id": "96144b63-d870-4802-bc22-d3411e78186a",
        "outputId": "8eec2b44-6194-4442-e98a-7e9c66aaa8a3"
      },
      "outputs": [
        {
          "data": {
            "text/plain": [
              "{'wine': 'frontenac', 'entree': 'fish', 'dessert': 'flan'}"
            ]
          },
          "execution_count": 118,
          "metadata": {},
          "output_type": "execute_result"
        }
      ],
      "source": [
        "menu('frontenac', dessert='flan', entree='fish')"
      ]
    },
    {
      "cell_type": "code",
      "execution_count": null,
      "id": "ba9e3520-299f-4e87-bfb9-075eb11f06d7",
      "metadata": {
        "id": "ba9e3520-299f-4e87-bfb9-075eb11f06d7",
        "outputId": "80c9bd77-d8bd-42d7-fb5b-b5709c31d45d"
      },
      "outputs": [
        {
          "data": {
            "text/plain": [
              "{'wine': 'chardonnay', 'entree': 'chicken', 'dessert': 'pudding'}"
            ]
          },
          "execution_count": 120,
          "metadata": {},
          "output_type": "execute_result"
        }
      ],
      "source": [
        "menu('chardonnay', 'chicken', 'pudding')"
      ]
    },
    {
      "cell_type": "code",
      "execution_count": null,
      "id": "4b509be9-25b2-493f-a8dd-6fe9c15c4456",
      "metadata": {
        "id": "4b509be9-25b2-493f-a8dd-6fe9c15c4456",
        "outputId": "4cb31495-c6ae-4754-e2a4-d00c8f3126e6"
      },
      "outputs": [
        {
          "data": {
            "text/plain": [
              "{'wine': 'dunkelfelder', 'entree': 'duck', 'dessert': 'doughnut'}"
            ]
          },
          "execution_count": 121,
          "metadata": {},
          "output_type": "execute_result"
        }
      ],
      "source": [
        "menu('dunkelfelder', 'duck', 'doughnut')"
      ]
    },
    {
      "cell_type": "code",
      "execution_count": null,
      "id": "6e994248-8be0-4a66-9dc1-f250f1d477bc",
      "metadata": {
        "id": "6e994248-8be0-4a66-9dc1-f250f1d477bc"
      },
      "outputs": [],
      "source": [
        "def menu2(price, wine='chardonnay', entree='chichken', dessert='pudding'):\n",
        "    return{'price':price, 'wine':wine, 'entree':entree, 'dessert':dessert}"
      ]
    },
    {
      "cell_type": "code",
      "execution_count": null,
      "id": "9203fd8a-de49-4978-aef6-1e22ac872937",
      "metadata": {
        "id": "9203fd8a-de49-4978-aef6-1e22ac872937",
        "outputId": "ba8a5b3f-70de-4fa0-c658-a0494f87c95f"
      },
      "outputs": [
        {
          "data": {
            "text/plain": [
              "{'price': 100,\n",
              " 'wine': 'chardonnay',\n",
              " 'entree': 'chichken',\n",
              " 'dessert': 'pudding'}"
            ]
          },
          "execution_count": 124,
          "metadata": {},
          "output_type": "execute_result"
        }
      ],
      "source": [
        "menu2(100)"
      ]
    },
    {
      "cell_type": "code",
      "execution_count": null,
      "id": "219544b9-90b5-4b62-89b1-2f86d366177e",
      "metadata": {
        "id": "219544b9-90b5-4b62-89b1-2f86d366177e",
        "outputId": "99fe2d11-72e2-4110-8e3f-3463fa00fcd9"
      },
      "outputs": [
        {
          "data": {
            "text/plain": [
              "{'price': 100,\n",
              " 'wine': 'chardonnay',\n",
              " 'entree': 'chichken',\n",
              " 'dessert': 'pudding'}"
            ]
          },
          "execution_count": 126,
          "metadata": {},
          "output_type": "execute_result"
        }
      ],
      "source": [
        "menu2(price=100)"
      ]
    },
    {
      "cell_type": "code",
      "execution_count": null,
      "id": "f5337fb1-4874-44da-ba65-77fbb7e32547",
      "metadata": {
        "id": "f5337fb1-4874-44da-ba65-77fbb7e32547",
        "outputId": "b6a02127-c7c1-4a23-c459-55c2d27a624c"
      },
      "outputs": [
        {
          "data": {
            "text/plain": [
              "{'price': 120, 'wine': 'chardonnay', 'entree': 'beef', 'dessert': 'pudding'}"
            ]
          },
          "execution_count": 127,
          "metadata": {},
          "output_type": "execute_result"
        }
      ],
      "source": [
        "menu2(price=120, entree='beef')"
      ]
    },
    {
      "cell_type": "code",
      "execution_count": null,
      "id": "9fec0b3e-2fab-475a-a393-8f82e668e379",
      "metadata": {
        "id": "9fec0b3e-2fab-475a-a393-8f82e668e379",
        "outputId": "88bce8c9-7bcc-425d-c2a4-bf1ef57ade68"
      },
      "outputs": [
        {
          "data": {
            "text/plain": [
              "{'price': 110, 'wine': 'chardonnay', 'entree': 'chichken', 'dessert': 'bagel'}"
            ]
          },
          "execution_count": 128,
          "metadata": {},
          "output_type": "execute_result"
        }
      ],
      "source": [
        "menu2(dessert='bagel', price=110)"
      ]
    },
    {
      "cell_type": "code",
      "execution_count": null,
      "id": "d078b2d5-14aa-41e2-885f-c9300e49a80c",
      "metadata": {
        "id": "d078b2d5-14aa-41e2-885f-c9300e49a80c",
        "outputId": "2301ec4a-da6e-4978-8963-2edddd3ef324"
      },
      "outputs": [
        {
          "data": {
            "text/plain": [
              "{'price': 'eighty',\n",
              " 'wine': 'saint-pierre',\n",
              " 'entree': 'fish',\n",
              " 'dessert': 'pudding'}"
            ]
          },
          "execution_count": 130,
          "metadata": {},
          "output_type": "execute_result"
        }
      ],
      "source": [
        "menu2('eighty','saint-pierre', 'fish')"
      ]
    },
    {
      "cell_type": "code",
      "execution_count": null,
      "id": "407d0d31-2b41-4121-9e67-53c7a7255f9d",
      "metadata": {
        "id": "407d0d31-2b41-4121-9e67-53c7a7255f9d",
        "outputId": "93c82716-e38f-457f-c1d1-e99f9d7a33d0"
      },
      "outputs": [
        {
          "data": {
            "text/plain": [
              "{'price': 'hundred',\n",
              " 'wine': 'saint-pierre',\n",
              " 'entree': 'chichken',\n",
              " 'dessert': 'pudding'}"
            ]
          },
          "execution_count": 131,
          "metadata": {},
          "output_type": "execute_result"
        }
      ],
      "source": [
        "menu2('hundred', wine='saint-pierre')"
      ]
    },
    {
      "cell_type": "code",
      "execution_count": null,
      "id": "b6aa611b-c77d-4326-9d7d-ae01e1a5692b",
      "metadata": {
        "id": "b6aa611b-c77d-4326-9d7d-ae01e1a5692b",
        "outputId": "0aae4724-f016-4f9a-a8ef-6dbd611f2da4"
      },
      "outputs": [
        {
          "ename": "TypeError",
          "evalue": "menu() missing 3 required positional arguments: 'wine', 'entree', and 'dessert'",
          "output_type": "error",
          "traceback": [
            "\u001b[0;31m---------------------------------------------------------------------------\u001b[0m",
            "\u001b[0;31mTypeError\u001b[0m                                 Traceback (most recent call last)",
            "Cell \u001b[0;32mIn[132], line 1\u001b[0m\n\u001b[0;32m----> 1\u001b[0m \u001b[43mmenu\u001b[49m\u001b[43m(\u001b[49m\u001b[43m)\u001b[49m\n",
            "\u001b[0;31mTypeError\u001b[0m: menu() missing 3 required positional arguments: 'wine', 'entree', and 'dessert'"
          ]
        }
      ],
      "source": [
        "menu()"
      ]
    },
    {
      "cell_type": "code",
      "execution_count": null,
      "id": "c7877ca0-1f23-4fd7-bf07-012febac0384",
      "metadata": {
        "id": "c7877ca0-1f23-4fd7-bf07-012febac0384",
        "outputId": "9b2a4ff0-f6d4-4bb2-fc23-9fe3c01ba841"
      },
      "outputs": [
        {
          "ename": "SyntaxError",
          "evalue": "positional argument follows keyword argument (2276001416.py, line 1)",
          "output_type": "error",
          "traceback": [
            "\u001b[0;36m  Cell \u001b[0;32mIn[133], line 1\u001b[0;36m\u001b[0m\n\u001b[0;31m    menu(price=100, 'saint-pierre')\u001b[0m\n\u001b[0m                                  ^\u001b[0m\n\u001b[0;31mSyntaxError\u001b[0m\u001b[0;31m:\u001b[0m positional argument follows keyword argument\n"
          ]
        }
      ],
      "source": [
        "menu(price=100, 'saint-pierre')"
      ]
    },
    {
      "cell_type": "code",
      "execution_count": null,
      "id": "8d2c23de-d627-48ef-9c75-a0f99b9666d4",
      "metadata": {
        "id": "8d2c23de-d627-48ef-9c75-a0f99b9666d4",
        "outputId": "9f5c5875-3ec4-4de0-efce-65bef5b9a966"
      },
      "outputs": [
        {
          "ename": "TypeError",
          "evalue": "menu() got an unexpected keyword argument 'price'",
          "output_type": "error",
          "traceback": [
            "\u001b[0;31m---------------------------------------------------------------------------\u001b[0m",
            "\u001b[0;31mTypeError\u001b[0m                                 Traceback (most recent call last)",
            "Cell \u001b[0;32mIn[135], line 1\u001b[0m\n\u001b[0;32m----> 1\u001b[0m \u001b[43mmenu\u001b[49m\u001b[43m(\u001b[49m\u001b[38;5;241;43m100\u001b[39;49m\u001b[43m,\u001b[49m\u001b[43m \u001b[49m\u001b[43mprice\u001b[49m\u001b[38;5;241;43m=\u001b[39;49m\u001b[38;5;241;43m120\u001b[39;49m\u001b[43m)\u001b[49m\n",
            "\u001b[0;31mTypeError\u001b[0m: menu() got an unexpected keyword argument 'price'"
          ]
        }
      ],
      "source": [
        "menu(100, price=120)"
      ]
    },
    {
      "cell_type": "code",
      "execution_count": null,
      "id": "1404c23b-b55e-4c0a-84bd-1cc91fdc1f1a",
      "metadata": {
        "id": "1404c23b-b55e-4c0a-84bd-1cc91fdc1f1a",
        "outputId": "71070f2f-9315-4751-da4f-f0399a693997"
      },
      "outputs": [
        {
          "ename": "TypeError",
          "evalue": "menu() got an unexpected keyword argument 'main'",
          "output_type": "error",
          "traceback": [
            "\u001b[0;31m---------------------------------------------------------------------------\u001b[0m",
            "\u001b[0;31mTypeError\u001b[0m                                 Traceback (most recent call last)",
            "Cell \u001b[0;32mIn[136], line 1\u001b[0m\n\u001b[0;32m----> 1\u001b[0m \u001b[43mmenu\u001b[49m\u001b[43m(\u001b[49m\u001b[43mmain\u001b[49m\u001b[43m \u001b[49m\u001b[38;5;241;43m=\u001b[39;49m\u001b[43m \u001b[49m\u001b[38;5;124;43m'\u001b[39;49m\u001b[38;5;124;43mcream pasta\u001b[39;49m\u001b[38;5;124;43m'\u001b[39;49m\u001b[43m)\u001b[49m\n",
            "\u001b[0;31mTypeError\u001b[0m: menu() got an unexpected keyword argument 'main'"
          ]
        }
      ],
      "source": [
        "menu(main = 'cream pasta')"
      ]
    },
    {
      "cell_type": "code",
      "execution_count": null,
      "id": "b81687ad-3439-4bd7-88e1-c85aa0c74a39",
      "metadata": {
        "id": "b81687ad-3439-4bd7-88e1-c85aa0c74a39"
      },
      "outputs": [],
      "source": [
        "def echo(anything):\n",
        "    'echo retunrs its input argument'\n",
        "    return anything"
      ]
    },
    {
      "cell_type": "code",
      "execution_count": null,
      "id": "cf7b3dc8-e2bf-4b41-ac0f-70061f07180d",
      "metadata": {
        "id": "cf7b3dc8-e2bf-4b41-ac0f-70061f07180d"
      },
      "outputs": [],
      "source": [
        "def print_if_true(thing, check):\n",
        "    \"\"\"\n",
        "    Prints the first argument if a second argument is true.\n",
        "    The operation is:\n",
        "    1. check whether the *second* argument is true.\n",
        "    2. If it is, print the *first* argument\n",
        "    \"\"\"\n",
        "    if check:\n",
        "        print(thing)\n",
        ""
      ]
    },
    {
      "cell_type": "code",
      "execution_count": null,
      "id": "5a207cf9-49fd-4e48-819f-e050d5f9b65b",
      "metadata": {
        "id": "5a207cf9-49fd-4e48-819f-e050d5f9b65b",
        "outputId": "e68ca482-b3b3-42ad-9cb1-dc81f05bd373"
      },
      "outputs": [
        {
          "name": "stdout",
          "output_type": "stream",
          "text": [
            "Help on function echo in module __main__:\n",
            "\n",
            "echo(anything)\n",
            "    echo retunrs its input argument\n",
            "\n"
          ]
        }
      ],
      "source": [
        "help(echo)"
      ]
    },
    {
      "cell_type": "code",
      "execution_count": null,
      "id": "f9d845ee-5914-4c66-8e36-2bd0bed7813e",
      "metadata": {
        "id": "f9d845ee-5914-4c66-8e36-2bd0bed7813e",
        "outputId": "4fb54730-2579-4199-87c9-02ac390ef007"
      },
      "outputs": [
        {
          "name": "stdout",
          "output_type": "stream",
          "text": [
            "Help on function print_if_true in module __main__:\n",
            "\n",
            "print_if_true(thing, check)\n",
            "    Prints the first argument if a second argument is true.\n",
            "    The operation is:\n",
            "    1. check whether the *second* argument is true.\n",
            "    2. If it is, print the *first* argument\n",
            "\n"
          ]
        }
      ],
      "source": [
        "help(print_if_true)"
      ]
    },
    {
      "cell_type": "code",
      "execution_count": null,
      "id": "1d37fc5d-64f9-43ce-808f-d353d141c762",
      "metadata": {
        "id": "1d37fc5d-64f9-43ce-808f-d353d141c762"
      },
      "outputs": [],
      "source": []
    }
  ],
  "metadata": {
    "kernelspec": {
      "display_name": "Python 3 (ipykernel)",
      "language": "python",
      "name": "python3"
    },
    "language_info": {
      "codemirror_mode": {
        "name": "ipython",
        "version": 3
      },
      "file_extension": ".py",
      "mimetype": "text/x-python",
      "name": "python",
      "nbconvert_exporter": "python",
      "pygments_lexer": "ipython3",
      "version": "3.11.5"
    },
    "colab": {
      "provenance": [],
      "include_colab_link": true
    }
  },
  "nbformat": 4,
  "nbformat_minor": 5
}